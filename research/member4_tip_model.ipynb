{
 "cells": [
  {
   "cell_type": "code",
   "id": "initial_id",
   "metadata": {
    "collapsed": true,
    "ExecuteTime": {
     "end_time": "2025-06-10T13:11:26.126849Z",
     "start_time": "2025-06-10T13:11:24.855034Z"
    }
   },
   "source": [
    "from pyspark.sql import SparkSession\n",
    "from pathlib import Path\n",
    "from pyspark.ml.feature import VectorAssembler\n",
    "from pyspark.ml.regression import LinearRegression\n",
    "from pyspark.ml.evaluation import RegressionEvaluator\n",
    "from pyspark.sql.functions import col\n",
    "\n",
    "# Create SparkSession in local mode\n",
    "spark = SparkSession.builder \\\n",
    "    .appName(\"FareTipModeling\") \\\n",
    "    .master(\"local[*]\") \\\n",
    "    .getOrCreate()\n"
   ],
   "outputs": [],
   "execution_count": 3
  },
  {
   "metadata": {
    "ExecuteTime": {
     "end_time": "2025-06-10T13:11:28.043478Z",
     "start_time": "2025-06-10T13:11:28.036348Z"
    }
   },
   "cell_type": "code",
   "source": [
    "folder_path = Path(r\"D:\\L4S2\\Big Data\\assignment\\NYC_Taxi_Trip_Data_Analysis\\data\\cleaned\")\n",
    "\n",
    "parquet_files = sorted(folder_path.glob(\"*.parquet\"))\n",
    "print(f\"Found {len(parquet_files)} parquet files:\")\n",
    "for f in parquet_files:\n",
    "    print(f.name)\n"
   ],
   "id": "2289b82b1c43e618",
   "outputs": [
    {
     "name": "stdout",
     "output_type": "stream",
     "text": [
      "Found 8 parquet files:\n",
      "part-00000-c267671b-1832-48c2-97b7-10a9827a836f-c000.snappy.parquet\n",
      "part-00001-c267671b-1832-48c2-97b7-10a9827a836f-c000.snappy.parquet\n",
      "part-00002-c267671b-1832-48c2-97b7-10a9827a836f-c000.snappy.parquet\n",
      "part-00003-c267671b-1832-48c2-97b7-10a9827a836f-c000.snappy.parquet\n",
      "part-00004-c267671b-1832-48c2-97b7-10a9827a836f-c000.snappy.parquet\n",
      "part-00005-c267671b-1832-48c2-97b7-10a9827a836f-c000.snappy.parquet\n",
      "part-00006-c267671b-1832-48c2-97b7-10a9827a836f-c000.snappy.parquet\n",
      "part-00007-c267671b-1832-48c2-97b7-10a9827a836f-c000.snappy.parquet\n"
     ]
    }
   ],
   "execution_count": 4
  },
  {
   "metadata": {
    "ExecuteTime": {
     "end_time": "2025-06-10T13:11:29.331803Z",
     "start_time": "2025-06-10T13:11:29.328186Z"
    }
   },
   "cell_type": "code",
   "source": [
    "def filter_valid_fares_tips(df):\n",
    "    filtered_df = df.filter((df.fare_amount > 0) & (df.tip_amount >= 0))\n",
    "    print(f\"Filtered from {df.count()} rows to {filtered_df.count()} rows with valid fare and tip amounts\")\n",
    "    return filtered_df\n"
   ],
   "id": "a1661c6cb8a64f0",
   "outputs": [],
   "execution_count": 5
  },
  {
   "metadata": {
    "ExecuteTime": {
     "end_time": "2025-06-10T13:11:44.839457Z",
     "start_time": "2025-06-10T13:11:31.269618Z"
    }
   },
   "cell_type": "code",
   "source": [
    "for file_path in parquet_files:\n",
    "    print(f\"\\nProcessing file: {file_path.name}\")\n",
    "    df = spark.read.parquet(str(file_path))\n",
    "    \n",
    "    # Run your filter\n",
    "    filtered_df = filter_valid_fares_tips(df)\n",
    "    \n",
    "    # You can add more processing steps here (e.g. modeling)\n"
   ],
   "id": "64a779d5a3a5c1a3",
   "outputs": [
    {
     "name": "stdout",
     "output_type": "stream",
     "text": [
      "\n",
      "Processing file: part-00000-c267671b-1832-48c2-97b7-10a9827a836f-c000.snappy.parquet\n",
      "Filtered from 3918134 rows to 3918134 rows with valid fare and tip amounts\n",
      "\n",
      "Processing file: part-00001-c267671b-1832-48c2-97b7-10a9827a836f-c000.snappy.parquet\n",
      "Filtered from 3933455 rows to 3933455 rows with valid fare and tip amounts\n",
      "\n",
      "Processing file: part-00002-c267671b-1832-48c2-97b7-10a9827a836f-c000.snappy.parquet\n",
      "Filtered from 3928190 rows to 3928190 rows with valid fare and tip amounts\n",
      "\n",
      "Processing file: part-00003-c267671b-1832-48c2-97b7-10a9827a836f-c000.snappy.parquet\n",
      "Filtered from 3936382 rows to 3936382 rows with valid fare and tip amounts\n",
      "\n",
      "Processing file: part-00004-c267671b-1832-48c2-97b7-10a9827a836f-c000.snappy.parquet\n",
      "Filtered from 3930808 rows to 3930808 rows with valid fare and tip amounts\n",
      "\n",
      "Processing file: part-00005-c267671b-1832-48c2-97b7-10a9827a836f-c000.snappy.parquet\n",
      "Filtered from 5205187 rows to 5205187 rows with valid fare and tip amounts\n",
      "\n",
      "Processing file: part-00006-c267671b-1832-48c2-97b7-10a9827a836f-c000.snappy.parquet\n",
      "Filtered from 3411161 rows to 3411161 rows with valid fare and tip amounts\n",
      "\n",
      "Processing file: part-00007-c267671b-1832-48c2-97b7-10a9827a836f-c000.snappy.parquet\n",
      "Filtered from 3886616 rows to 3886616 rows with valid fare and tip amounts\n"
     ]
    }
   ],
   "execution_count": 6
  },
  {
   "metadata": {
    "ExecuteTime": {
     "end_time": "2025-06-10T13:11:51.853976Z",
     "start_time": "2025-06-10T13:11:51.753925Z"
    }
   },
   "cell_type": "code",
   "source": [
    "df = spark.read.parquet(str(parquet_files[0]))\n",
    "print(df.columns)\n"
   ],
   "id": "44627bfecc13821",
   "outputs": [
    {
     "name": "stdout",
     "output_type": "stream",
     "text": [
      "['VendorID', 'tpep_pickup_datetime', 'tpep_dropoff_datetime', 'passenger_count', 'trip_distance', 'RatecodeID', 'store_and_fwd_flag', 'PULocationID', 'DOLocationID', 'payment_type', 'fare_amount', 'extra', 'mta_tax', 'tip_amount', 'tolls_amount', 'improvement_surcharge', 'total_amount', 'congestion_surcharge', 'Airport_fee']\n"
     ]
    }
   ],
   "execution_count": 7
  },
  {
   "metadata": {
    "ExecuteTime": {
     "end_time": "2025-06-10T13:11:53.184789Z",
     "start_time": "2025-06-10T13:11:53.176782Z"
    }
   },
   "cell_type": "code",
   "source": [
    "#calculate the total size of the data set\n",
    "from pathlib import Path\n",
    "\n",
    "folder_path = Path(r\"D:\\L4S2\\Big Data\\assignment\\NYC_Taxi_Trip_Data_Analysis\\data\\cleaned\")\n",
    "\n",
    "total_size_bytes = sum(f.stat().st_size for f in folder_path.glob(\"*.parquet\"))\n",
    "total_size_mb = total_size_bytes / (1024 * 1024)\n",
    "\n",
    "print(f\"📦 Total dataset size: {total_size_mb:.2f} MB\")\n"
   ],
   "id": "f46b5b11f193d675",
   "outputs": [
    {
     "name": "stdout",
     "output_type": "stream",
     "text": [
      "📦 Total dataset size: 624.47 MB\n"
     ]
    }
   ],
   "execution_count": 8
  },
  {
   "metadata": {
    "ExecuteTime": {
     "end_time": "2025-06-10T13:11:55.395091Z",
     "start_time": "2025-06-10T13:11:54.818070Z"
    }
   },
   "cell_type": "code",
   "source": [
    "# 📄 Load and combine all Parquet files into one DataFrame\n",
    "df_all = spark.read.parquet(*[str(p) for p in parquet_files])\n",
    "\n",
    "# 🎯 Select 50 sample values from the tip_amount column\n",
    "print(\"🎯 Sample 50 values from 'tip_amount' column:\")\n",
    "df_all.select(\"tip_amount\").limit(50).show(50, truncate=False)\n"
   ],
   "id": "16fb4f0094fb2f0b",
   "outputs": [
    {
     "name": "stdout",
     "output_type": "stream",
     "text": [
      "🎯 Sample 50 values from 'tip_amount' column:\n",
      "+----------+\n",
      "|tip_amount|\n",
      "+----------+\n",
      "|0.0       |\n",
      "|1.0       |\n",
      "|1.0       |\n",
      "|0.0       |\n",
      "|3.0       |\n",
      "|3.42      |\n",
      "|2.08      |\n",
      "|2.72      |\n",
      "|4.0       |\n",
      "|2.0       |\n",
      "|0.1       |\n",
      "|3.84      |\n",
      "|0.0       |\n",
      "|6.64      |\n",
      "|3.84      |\n",
      "|2.44      |\n",
      "|0.0       |\n",
      "|2.13      |\n",
      "|2.0       |\n",
      "|2.44      |\n",
      "|2.08      |\n",
      "|3.28      |\n",
      "|0.0       |\n",
      "|4.68      |\n",
      "|5.0       |\n",
      "|2.0       |\n",
      "|0.0       |\n",
      "|4.26      |\n",
      "|3.4       |\n",
      "|4.26      |\n",
      "|1.85      |\n",
      "|0.0       |\n",
      "|0.0       |\n",
      "|16.15     |\n",
      "|2.0       |\n",
      "|2.1       |\n",
      "|2.0       |\n",
      "|4.3       |\n",
      "|2.0       |\n",
      "|0.0       |\n",
      "|0.0       |\n",
      "|5.8       |\n",
      "|4.1       |\n",
      "|1.0       |\n",
      "|1.0       |\n",
      "|3.4       |\n",
      "|0.0       |\n",
      "|3.15      |\n",
      "|2.45      |\n",
      "|7.6       |\n",
      "+----------+\n",
      "\n"
     ]
    }
   ],
   "execution_count": 9
  },
  {
   "metadata": {
    "ExecuteTime": {
     "end_time": "2025-06-10T13:11:56.717382Z",
     "start_time": "2025-06-10T13:11:56.701450Z"
    }
   },
   "cell_type": "code",
   "source": [
    "# Drop 'total_amount' if it exists to avoid data leakage\n",
    "if 'total_amount' in filtered_df.columns:\n",
    "    filtered_df = filtered_df.drop('total_amount')\n",
    "\n",
    "# Select only numeric feature columns and drop target\n",
    "feature_cols = [col for col in filtered_df.columns if col != 'tip_amount']\n",
    "target_col = 'tip_amount'\n"
   ],
   "id": "c14ee5c6b4e0a271",
   "outputs": [],
   "execution_count": 10
  },
  {
   "metadata": {},
   "cell_type": "markdown",
   "source": "Feature Engineering I\n",
   "id": "1fcc90cc9bf8736d"
  },
  {
   "metadata": {
    "ExecuteTime": {
     "end_time": "2025-06-10T13:11:59.466463Z",
     "start_time": "2025-06-10T13:11:59.341412Z"
    }
   },
   "cell_type": "code",
   "source": [
    "from pyspark.sql.functions import hour, dayofweek, unix_timestamp, col\n",
    "\n",
    "# Add time-based features\n",
    "engineered_df = filtered_df \\\n",
    "    .withColumn(\"pickup_hour\", hour(col(\"tpep_pickup_datetime\"))) \\\n",
    "    .withColumn(\"pickup_dayofweek\", dayofweek(col(\"tpep_pickup_datetime\"))) \\\n",
    "    .withColumn(\"trip_duration_minutes\", \n",
    "                (unix_timestamp(col(\"tpep_dropoff_datetime\")) - unix_timestamp(col(\"tpep_pickup_datetime\"))) / 60)\n",
    "\n",
    "# Optional: Drop original timestamp fields\n",
    "engineered_df = engineered_df.drop(\"tpep_pickup_datetime\", \"tpep_dropoff_datetime\")\n"
   ],
   "id": "fe011d35b4dd4c3",
   "outputs": [],
   "execution_count": 11
  },
  {
   "metadata": {
    "ExecuteTime": {
     "end_time": "2025-06-10T13:12:00.391109Z",
     "start_time": "2025-06-10T13:12:00.343816Z"
    }
   },
   "cell_type": "code",
   "source": [
    "from pyspark.sql.functions import when\n",
    "\n",
    "engineered_df = engineered_df.withColumn(\"store_and_fwd_flag_numeric\",\n",
    "                                         when(col(\"store_and_fwd_flag\") == \"Y\", 1).otherwise(0))\n",
    "\n",
    "# Drop original string column\n",
    "engineered_df = engineered_df.drop(\"store_and_fwd_flag\")\n"
   ],
   "id": "d20535c2aee8ddb",
   "outputs": [],
   "execution_count": 12
  },
  {
   "metadata": {
    "ExecuteTime": {
     "end_time": "2025-06-10T13:12:02.053136Z",
     "start_time": "2025-06-10T13:12:01.864944Z"
    }
   },
   "cell_type": "code",
   "source": [
    "from pyspark.sql.types import NumericType\n",
    "\n",
    "numeric_cols = [f.name for f in engineered_df.schema.fields \n",
    "                if isinstance(f.dataType, NumericType) and f.name != \"tip_amount\"]\n",
    "\n",
    "print(\"Final feature columns:\")\n",
    "print(numeric_cols)\n",
    "\n",
    "assembler = VectorAssembler(inputCols=numeric_cols, outputCol=\"features\")\n",
    "assembled_df = assembler.transform(engineered_df).select(\"features\", \"tip_amount\")\n"
   ],
   "id": "72ce93c3c4ea6bfc",
   "outputs": [
    {
     "name": "stdout",
     "output_type": "stream",
     "text": [
      "Final feature columns:\n",
      "['VendorID', 'passenger_count', 'trip_distance', 'RatecodeID', 'PULocationID', 'DOLocationID', 'payment_type', 'fare_amount', 'extra', 'mta_tax', 'tolls_amount', 'improvement_surcharge', 'congestion_surcharge', 'Airport_fee', 'pickup_hour', 'pickup_dayofweek', 'trip_duration_minutes', 'store_and_fwd_flag_numeric']\n"
     ]
    }
   ],
   "execution_count": 13
  },
  {
   "metadata": {
    "ExecuteTime": {
     "end_time": "2025-06-10T13:13:20.351964Z",
     "start_time": "2025-06-10T13:12:03.312928Z"
    }
   },
   "cell_type": "code",
   "source": [
    "train_data, test_data = assembled_df.randomSplit([0.8, 0.2], seed=42)\n",
    "\n",
    "lr = LinearRegression(featuresCol=\"features\", labelCol=\"tip_amount\")\n",
    "lr_model = lr.fit(train_data)\n",
    "\n",
    "predictions = lr_model.transform(test_data)\n",
    "\n",
    "evaluator = RegressionEvaluator(\n",
    "    labelCol=\"tip_amount\", predictionCol=\"prediction\", metricName=\"rmse\"\n",
    ")\n",
    "\n",
    "rmse = evaluator.evaluate(predictions)\n",
    "print(f\"New RMSE with engineered features = {rmse:.2f}\")\n"
   ],
   "id": "6edefa0f91e1cc48",
   "outputs": [
    {
     "name": "stdout",
     "output_type": "stream",
     "text": [
      "New RMSE with engineered features = 2.57\n"
     ]
    }
   ],
   "execution_count": 14
  },
  {
   "metadata": {},
   "cell_type": "markdown",
   "source": "Feature Engineering II",
   "id": "cdf412b6ea6a6337"
  },
  {
   "metadata": {
    "ExecuteTime": {
     "end_time": "2025-06-10T13:13:45.456822Z",
     "start_time": "2025-06-10T13:13:45.301793Z"
    }
   },
   "cell_type": "code",
   "source": [
    "from pyspark.sql.types import NumericType\n",
    "\n",
    "# Get only numeric columns (exclude timestamps, strings, etc.)\n",
    "numeric_cols = [f.name for f in filtered_df.schema.fields\n",
    "                if isinstance(f.dataType, NumericType) and f.name != 'tip_amount']\n",
    "\n",
    "print(\"Using these numeric columns for features:\")\n",
    "print(numeric_cols)\n",
    "\n",
    "# Assemble features into 'features' column\n",
    "assembler = VectorAssembler(inputCols=numeric_cols, outputCol='features')\n",
    "assembled_df = assembler.transform(filtered_df).select('features', 'tip_amount')\n"
   ],
   "id": "d6c8eb46fce47340",
   "outputs": [
    {
     "name": "stdout",
     "output_type": "stream",
     "text": [
      "Using these numeric columns for features:\n",
      "['VendorID', 'passenger_count', 'trip_distance', 'RatecodeID', 'PULocationID', 'DOLocationID', 'payment_type', 'fare_amount', 'extra', 'mta_tax', 'tolls_amount', 'improvement_surcharge', 'congestion_surcharge', 'Airport_fee']\n"
     ]
    }
   ],
   "execution_count": 15
  },
  {
   "metadata": {
    "ExecuteTime": {
     "end_time": "2025-06-10T13:13:55.833841Z",
     "start_time": "2025-06-10T13:13:49.039579Z"
    }
   },
   "cell_type": "code",
   "source": [
    "from pyspark.sql.functions import skewness\n",
    "\n",
    "# Define numeric columns (already known)\n",
    "numeric_cols = ['VendorID', 'passenger_count', 'trip_distance', 'RatecodeID', 'PULocationID', \n",
    "                'DOLocationID', 'payment_type', 'fare_amount', 'extra', 'mta_tax', \n",
    "                'tolls_amount', 'improvement_surcharge', 'congestion_surcharge', 'Airport_fee']\n",
    "\n",
    "# Exclude ID-like or categorical numeric columns\n",
    "excluded_cols = ['VendorID', 'RatecodeID', 'PULocationID', 'DOLocationID', 'payment_type']\n",
    "continuous_cols = [col for col in numeric_cols if col not in excluded_cols]\n",
    "\n",
    "print(\"Computing skewness for continuous numeric columns:\")\n",
    "for col_name in continuous_cols:\n",
    "    skew_val = filtered_df.select(skewness(col(col_name)).alias('skew')).collect()[0]['skew']\n",
    "    print(f\"{col_name}: {skew_val:.3f}\")\n"
   ],
   "id": "8c515f9dda3b96db",
   "outputs": [
    {
     "name": "stdout",
     "output_type": "stream",
     "text": [
      "Computing skewness for continuous numeric columns:\n",
      "passenger_count: 2.471\n",
      "trip_distance: 2.558\n",
      "fare_amount: 2.224\n",
      "extra: 1.499\n",
      "mta_tax: -10.690\n",
      "tolls_amount: 4.634\n",
      "improvement_surcharge: -13.745\n",
      "congestion_surcharge: -3.352\n",
      "Airport_fee: 2.851\n"
     ]
    }
   ],
   "execution_count": 16
  },
  {
   "metadata": {
    "ExecuteTime": {
     "end_time": "2025-06-10T13:13:59.186496Z",
     "start_time": "2025-06-10T13:13:59.173872Z"
    }
   },
   "cell_type": "code",
   "source": [
    "# Drop the specified columns\n",
    "filtered_df = filtered_df.drop(\"mta_tax\", \"improvement_surcharge\")\n",
    "\n",
    "# Confirm by printing the schema\n",
    "filtered_df.printSchema()\n"
   ],
   "id": "6cf6d571d96912b0",
   "outputs": [
    {
     "name": "stdout",
     "output_type": "stream",
     "text": [
      "root\n",
      " |-- VendorID: integer (nullable = true)\n",
      " |-- tpep_pickup_datetime: timestamp_ntz (nullable = true)\n",
      " |-- tpep_dropoff_datetime: timestamp_ntz (nullable = true)\n",
      " |-- passenger_count: long (nullable = true)\n",
      " |-- trip_distance: double (nullable = true)\n",
      " |-- RatecodeID: long (nullable = true)\n",
      " |-- store_and_fwd_flag: string (nullable = true)\n",
      " |-- PULocationID: integer (nullable = true)\n",
      " |-- DOLocationID: integer (nullable = true)\n",
      " |-- payment_type: long (nullable = true)\n",
      " |-- fare_amount: double (nullable = true)\n",
      " |-- extra: double (nullable = true)\n",
      " |-- tip_amount: double (nullable = true)\n",
      " |-- tolls_amount: double (nullable = true)\n",
      " |-- congestion_surcharge: double (nullable = true)\n",
      " |-- Airport_fee: double (nullable = true)\n",
      "\n"
     ]
    }
   ],
   "execution_count": 17
  },
  {
   "metadata": {
    "ExecuteTime": {
     "end_time": "2025-06-10T13:14:00.871583Z",
     "start_time": "2025-06-10T13:14:00.621142Z"
    }
   },
   "cell_type": "code",
   "source": [
    "from pyspark.sql.functions import log1p\n",
    "\n",
    "# Columns chosen based on high positive skewness\n",
    "log_transform_cols = [\n",
    "    \"trip_distance\", \n",
    "    \"fare_amount\", \n",
    "    \"tolls_amount\", \n",
    "    \"Airport_fee\", \n",
    "    \"passenger_count\"\n",
    "]\n",
    "\n",
    "# Apply log1p transformation to each of the selected columns\n",
    "for col_name in log_transform_cols:\n",
    "    filtered_df = filtered_df.withColumn(f\"log_{col_name}\", log1p(col(col_name)))\n",
    "\n",
    "# Show a few rows to verify transformation\n",
    "filtered_df.select([f\"log_{col}\" for col in log_transform_cols]).show(5)\n"
   ],
   "id": "7ebb8174f8caaee1",
   "outputs": [
    {
     "name": "stdout",
     "output_type": "stream",
     "text": [
      "+------------------+------------------+----------------+---------------+-------------------+\n",
      "| log_trip_distance|   log_fare_amount|log_tolls_amount|log_Airport_fee|log_passenger_count|\n",
      "+------------------+------------------+----------------+---------------+-------------------+\n",
      "|0.8754687373538999|  2.33214389523559|             0.0|            0.0| 1.0986122886681096|\n",
      "|0.9555114450274365| 2.624668592163159|             0.0|            0.0| 0.6931471805599453|\n",
      "|0.9162907318741551|2.2617630984737906|             0.0|            0.0| 0.6931471805599453|\n",
      "|0.5877866649021191| 1.916922612182061|             0.0|            0.0| 0.6931471805599453|\n",
      "|1.8625285401162623| 3.349904087274605|             0.0|            0.0| 0.6931471805599453|\n",
      "+------------------+------------------+----------------+---------------+-------------------+\n",
      "only showing top 5 rows\n"
     ]
    }
   ],
   "execution_count": 18
  },
  {
   "metadata": {
    "ExecuteTime": {
     "end_time": "2025-06-10T13:14:05.031163Z",
     "start_time": "2025-06-10T13:14:02.758504Z"
    }
   },
   "cell_type": "code",
   "source": [
    "from pyspark.sql.functions import skewness\n",
    "\n",
    "# List of log-transformed columns\n",
    "log_cols = [\n",
    "    \"log_trip_distance\",\n",
    "    \"log_fare_amount\",\n",
    "    \"log_tolls_amount\",\n",
    "    \"log_Airport_fee\",\n",
    "    \"log_passenger_count\"\n",
    "]\n",
    "\n",
    "# Compute skewness for each\n",
    "print(\"Skewness after logarithmic transformation:\")\n",
    "for col in log_cols:\n",
    "    skew_val = filtered_df.select(skewness(col)).first()[0]\n",
    "    print(f\"{col}: {skew_val:.3f}\")\n"
   ],
   "id": "7155951e2919f428",
   "outputs": [
    {
     "name": "stdout",
     "output_type": "stream",
     "text": [
      "Skewness after logarithmic transformation:\n",
      "log_trip_distance: 1.132\n",
      "log_fare_amount: 0.699\n",
      "log_tolls_amount: 3.095\n",
      "log_Airport_fee: 2.851\n",
      "log_passenger_count: 1.993\n"
     ]
    }
   ],
   "execution_count": 19
  },
  {
   "metadata": {
    "ExecuteTime": {
     "end_time": "2025-06-10T13:14:17.926018Z",
     "start_time": "2025-06-10T13:14:08.260246Z"
    }
   },
   "cell_type": "code",
   "source": [
    "import matplotlib.pyplot as plt\n",
    "\n",
    "# Convert filtered_df to Pandas (sample for plotting if dataset is large)\n",
    "sample_df = filtered_df.select(\n",
    "    \"log_trip_distance\", \n",
    "    \"log_tolls_amount\", \n",
    "    \"log_Airport_fee\", \n",
    "    \"log_passenger_count\"\n",
    ").sample(fraction=0.1, seed=42).toPandas()\n",
    "\n",
    "# Set up plots\n",
    "plt.figure(figsize=(12, 8))\n",
    "cols_to_plot = sample_df.columns\n",
    "for i, col in enumerate(cols_to_plot, 1):\n",
    "    plt.subplot(2, 2, i)\n",
    "    plt.hist(sample_df[col], bins=50, color='skyblue', edgecolor='black')\n",
    "    plt.title(f'Distribution of {col}')\n",
    "    plt.xlabel(col)\n",
    "    plt.ylabel('Frequency')\n",
    "\n",
    "plt.tight_layout()\n",
    "plt.show()\n"
   ],
   "id": "f7bcf9c576fbe834",
   "outputs": [
    {
     "data": {
      "text/plain": [
       "<Figure size 1200x800 with 4 Axes>"
      ],
      "image/png": "[encoded data removed]"
     },
     "metadata": {},
     "output_type": "display_data"
    }
   ],
   "execution_count": 20
  },
  {
   "metadata": {
    "ExecuteTime": {
     "end_time": "2025-06-10T13:14:22.050220Z",
     "start_time": "2025-06-10T13:14:20.995943Z"
    }
   },
   "cell_type": "code",
   "source": [
    "from pyspark.sql.functions import sqrt, col\n",
    "from pyspark.sql.functions import skewness\n",
    "\n",
    "# Apply square root transformation on 'log_trip_distance'\n",
    "filtered_df = filtered_df.withColumn('sqrt_log_trip_distance', sqrt(col('log_trip_distance')))\n",
    "\n",
    "# Calculate skewness of the transformed column\n",
    "skew_val = filtered_df.select(skewness('sqrt_log_trip_distance')).first()[0]\n",
    "print(f\"Skewness of sqrt_log_trip_distance: {skew_val:.3f}\")\n"
   ],
   "id": "843642271dce23df",
   "outputs": [
    {
     "name": "stdout",
     "output_type": "stream",
     "text": [
      "Skewness of sqrt_log_trip_distance: 0.526\n"
     ]
    }
   ],
   "execution_count": 21
  },
  {
   "metadata": {
    "ExecuteTime": {
     "end_time": "2025-06-10T13:16:37.521094Z",
     "start_time": "2025-06-10T13:14:24.131503Z"
    }
   },
   "cell_type": "code",
   "source": [
    "from pyspark.sql.functions import col\n",
    "\n",
    "transformed_cols = [\n",
    "    'sqrt_log_trip_distance',\n",
    "    'log_fare_amount',\n",
    "    'log_tolls_amount',\n",
    "    'log_Airport_fee',\n",
    "    'log_passenger_count'\n",
    "]\n",
    "\n",
    "def detect_outliers(df, col_name):\n",
    "    quantiles = df.approxQuantile(col_name, [0.25, 0.75], 0.0)\n",
    "    Q1, Q3 = quantiles[0], quantiles[1]\n",
    "    IQR = Q3 - Q1\n",
    "    lower_bound = Q1 - 1.5 * IQR\n",
    "    upper_bound = Q3 + 1.5 * IQR\n",
    "\n",
    "    outliers_df = df.filter((col(col_name) < lower_bound) | (col(col_name) > upper_bound))\n",
    "\n",
    "    print(f\"Column: {col_name}\")\n",
    "    print(f\"  Q1={Q1:.3f}, Q3={Q3:.3f}, IQR={IQR:.3f}\")\n",
    "    print(f\"  Lower Bound={lower_bound:.3f}, Upper Bound={upper_bound:.3f}\")\n",
    "    print(f\"  Outliers count: {outliers_df.count()}\")\n",
    "    print(f\"  Sample outliers:\")\n",
    "    outliers_df.select(col_name).show(5, truncate=False)\n",
    "\n",
    "for c in transformed_cols:\n",
    "    detect_outliers(filtered_df, c)\n"
   ],
   "id": "b030ae37eb218d8b",
   "outputs": [
    {
     "name": "stdout",
     "output_type": "stream",
     "text": [
      "Column: sqrt_log_trip_distance\n",
      "  Q1=0.841, Q3=1.213, IQR=0.372\n",
      "  Lower Bound=0.283, Upper Bound=1.771\n",
      "  Outliers count: 26400\n",
      "  Sample outliers:\n",
      "+----------------------+\n",
      "|sqrt_log_trip_distance|\n",
      "+----------------------+\n",
      "|1.8163602770642733    |\n",
      "|0.26011276107452863   |\n",
      "|1.8125706465317275    |\n",
      "|0.26011276107452863   |\n",
      "|0.1407218081754911    |\n",
      "+----------------------+\n",
      "only showing top 5 rows\n",
      "Column: log_fare_amount\n",
      "  Q1=2.332, Q3=3.131, IQR=0.799\n",
      "  Lower Bound=1.134, Upper Bound=4.330\n",
      "  Outliers count: 36323\n",
      "  Sample outliers:\n",
      "+-----------------+\n",
      "|log_fare_amount  |\n",
      "+-----------------+\n",
      "|4.457829598089382|\n",
      "|4.457829598089382|\n",
      "|4.550714000192032|\n",
      "|4.394449154672439|\n",
      "|4.486949554600661|\n",
      "+-----------------+\n",
      "only showing top 5 rows\n",
      "Column: log_tolls_amount\n",
      "  Q1=0.000, Q3=0.000, IQR=0.000\n",
      "  Lower Bound=0.000, Upper Bound=0.000\n",
      "  Outliers count: 321450\n",
      "  Sample outliers:\n",
      "+------------------+\n",
      "|log_tolls_amount  |\n",
      "+------------------+\n",
      "|2.0719132752590443|\n",
      "|2.0719132752590443|\n",
      "|2.0719132752590443|\n",
      "|2.0719132752590443|\n",
      "|2.0719132752590443|\n",
      "+------------------+\n",
      "only showing top 5 rows\n",
      "Column: log_Airport_fee\n",
      "  Q1=0.000, Q3=0.000, IQR=0.000\n",
      "  Lower Bound=0.000, Upper Bound=0.000\n",
      "  Outliers count: 352435\n",
      "  Sample outliers:\n",
      "+------------------+\n",
      "|log_Airport_fee   |\n",
      "+------------------+\n",
      "|1.0116009116784799|\n",
      "|1.0116009116784799|\n",
      "|1.0116009116784799|\n",
      "|1.0116009116784799|\n",
      "|1.0116009116784799|\n",
      "+------------------+\n",
      "only showing top 5 rows\n",
      "Column: log_passenger_count\n",
      "  Q1=0.693, Q3=0.693, IQR=0.000\n",
      "  Lower Bound=0.693, Upper Bound=0.693\n",
      "  Outliers count: 823443\n",
      "  Sample outliers:\n",
      "+-------------------+\n",
      "|log_passenger_count|\n",
      "+-------------------+\n",
      "|1.0986122886681096 |\n",
      "|1.0986122886681096 |\n",
      "|1.0986122886681096 |\n",
      "|1.0986122886681096 |\n",
      "|1.0986122886681096 |\n",
      "+-------------------+\n",
      "only showing top 5 rows\n"
     ]
    }
   ],
   "execution_count": 22
  },
  {
   "metadata": {
    "ExecuteTime": {
     "end_time": "2025-06-10T13:17:50.543717Z",
     "start_time": "2025-06-10T13:16:40.661873Z"
    }
   },
   "cell_type": "code",
   "source": [
    "import matplotlib.pyplot as plt\n",
    "import pandas as pd\n",
    "\n",
    "# Select the columns and convert to Pandas DataFrame\n",
    "cols_to_plot = ['log_tolls_amount', 'log_Airport_fee', 'log_passenger_count']\n",
    "pdf = filtered_df.select(cols_to_plot).toPandas()\n",
    "\n",
    "# Plot histograms\n",
    "fig, axes = plt.subplots(1, 3, figsize=(18, 4))\n",
    "\n",
    "for i, col in enumerate(cols_to_plot):\n",
    "    axes[i].hist(pdf[col], bins=30, color='skyblue', edgecolor='black')\n",
    "    axes[i].set_title(f'Histogram of {col}')\n",
    "    axes[i].set_xlabel(col)\n",
    "    axes[i].set_ylabel('Frequency')\n",
    "\n",
    "plt.tight_layout()\n",
    "plt.show()\n"
   ],
   "id": "3885a498d9842526",
   "outputs": [
    {
     "data": {
      "text/plain": [
       "<Figure size 1800x400 with 3 Axes>"
      ],
      "image/png": "[encoded data removed]"
     },
     "metadata": {},
     "output_type": "display_data"
    }
   ],
   "execution_count": 23
  },
  {
   "metadata": {
    "ExecuteTime": {
     "end_time": "2025-06-10T13:18:15.803103Z",
     "start_time": "2025-06-10T13:17:54.668159Z"
    }
   },
   "cell_type": "code",
   "source": [
    "from pyspark.ml.feature import VectorAssembler, StandardScaler\n",
    "\n",
    "# 1. Assemble the transformed columns into a single feature vector\n",
    "assembler = VectorAssembler(inputCols=transformed_cols, outputCol=\"features\")\n",
    "assembled_df = assembler.transform(filtered_df)\n",
    "\n",
    "# 2. Apply StandardScaler\n",
    "scaler = StandardScaler(inputCol=\"features\", outputCol=\"scaled_features\", withMean=True, withStd=True)\n",
    "scaler_model = scaler.fit(assembled_df)\n",
    "scaled_df = scaler_model.transform(assembled_df)\n",
    "\n",
    "# 3. Preview the scaled feature vector\n",
    "scaled_df.select(\"scaled_features\").show(truncate=False)\n"
   ],
   "id": "6908ed1701522fef",
   "outputs": [
    {
     "name": "stdout",
     "output_type": "stream",
     "text": [
      "+--------------------------------------------------------------------------------------------------------+\n",
      "|scaled_features                                                                                         |\n",
      "+--------------------------------------------------------------------------------------------------------+\n",
      "|[-0.39244666212714385,-0.7108490797374938,-0.298784734160729,-0.31578742063016385,1.3336293861237207]   |\n",
      "|[-0.25225875572376366,-0.25818762373637144,-0.298784734160729,-0.31578742063016385,-0.4830441105708463] |\n",
      "|[-0.32018476978772603,-0.8197584274655031,-0.298784734160729,-0.31578742063016385,-0.4830441105708463]  |\n",
      "|[-0.9586976266957425,-1.3533748990060228,-0.298784734160729,-0.31578742063016385,-0.4830441105708463]   |\n",
      "|[1.0452923219156587,0.8640634497930797,-0.298784734160729,-0.31578742063016385,-0.4830441105708463]     |\n",
      "|[1.5645880062935031,1.4040014995120151,3.256979144770814,3.166700581391069,-0.4830441105708463]         |\n",
      "|[-0.5185180571540438,-0.9369171625170727,-0.298784734160729,-0.31578742063016385,-0.4830441105708463]   |\n",
      "|[0.10060680204275833,0.09159019067800847,-0.298784734160729,-0.31578742063016385,-0.4830441105708463]   |\n",
      "|[-0.43037368502797047,-0.25818762373637144,-0.298784734160729,-0.31578742063016385,-0.4830441105708463] |\n",
      "|[-0.43037368502797047,-0.5136369616516322,-0.298784734160729,-0.31578742063016385,-0.4830441105708463]  |\n",
      "|[0.8884424446118686,0.6173602063308448,-0.298784734160729,-0.31578742063016385,-0.4830441105708463]     |\n",
      "|[1.0936244533719395,0.9174283890144402,-0.298784734160729,-0.31578742063016385,-0.4830441105708463]     |\n",
      "|[0.25644163568150097,-0.25818762373637144,-0.298784734160729,-0.31578742063016385,-0.4830441105708463]  |\n",
      "|[1.6330841965662164,1.3213998647428866,3.256979144770814,-0.31578742063016385,-0.4830441105708463]      |\n",
      "|[0.5191796076275371,0.15296939352767913,-0.298784734160729,-0.31578742063016385,-0.4830441105708463]    |\n",
      "|[-0.015547111919461194,-0.42371947761604606,-0.298784734160729,-0.31578742063016385,-0.4830441105708463]|\n",
      "|[0.13362993143822965,-0.33874119355336074,-0.298784734160729,-0.31578742063016385,-0.4830441105708463]  |\n",
      "|[-1.2152819596787416,-1.3533748990060228,-0.298784734160729,-0.31578742063016385,-0.4830441105708463]   |\n",
      "|[-0.44590414260419203,-0.5136369616516322,-0.298784734160729,-0.31578742063016385,-0.4830441105708463]  |\n",
      "|[-0.2993745362301488,-0.42371947761604606,-0.298784734160729,-0.31578742063016385,-0.4830441105708463]  |\n",
      "+--------------------------------------------------------------------------------------------------------+\n",
      "only showing top 20 rows\n"
     ]
    }
   ],
   "execution_count": 24
  },
  {
   "metadata": {
    "ExecuteTime": {
     "end_time": "2025-06-10T13:18:19.342363Z",
     "start_time": "2025-06-10T13:18:19.320729Z"
    }
   },
   "cell_type": "code",
   "source": [
    "from pyspark.ml.feature import VectorAssembler\n",
    "\n",
    "assembler = VectorAssembler(\n",
    "    inputCols=transformed_cols,\n",
    "    outputCol=\"features\"\n",
    ")\n",
    "\n",
    "assembled_df = assembler.transform(filtered_df)\n"
   ],
   "id": "bb0dbf227908aefc",
   "outputs": [],
   "execution_count": 25
  },
  {
   "metadata": {
    "ExecuteTime": {
     "end_time": "2025-06-10T13:18:21.301599Z",
     "start_time": "2025-06-10T13:18:21.287986Z"
    }
   },
   "cell_type": "code",
   "source": "train_data, test_data = assembled_df.randomSplit([0.8, 0.2], seed=42)\n",
   "id": "1f54b4e29385b478",
   "outputs": [],
   "execution_count": 26
  },
  {
   "metadata": {
    "ExecuteTime": {
     "end_time": "2025-06-10T13:18:47.700588Z",
     "start_time": "2025-06-10T13:18:22.386059Z"
    }
   },
   "cell_type": "code",
   "source": [
    "from pyspark.ml.regression import LinearRegression\n",
    "\n",
    "lr = LinearRegression(featuresCol='features', labelCol='tip_amount')\n",
    "lr_model = lr.fit(train_data)\n"
   ],
   "id": "3485e5a8be411edf",
   "outputs": [],
   "execution_count": 27
  },
  {
   "metadata": {
    "ExecuteTime": {
     "end_time": "2025-06-10T13:19:14.595982Z",
     "start_time": "2025-06-10T13:18:50.418876Z"
    }
   },
   "cell_type": "code",
   "source": [
    "predictions = lr_model.transform(test_data)\n",
    "\n",
    "from pyspark.ml.evaluation import RegressionEvaluator\n",
    "\n",
    "rmse = RegressionEvaluator(labelCol='tip_amount', predictionCol='prediction', metricName='rmse').evaluate(predictions)\n",
    "r2 = RegressionEvaluator(labelCol='tip_amount', predictionCol='prediction', metricName='r2').evaluate(predictions)\n",
    "\n",
    "print(f\"RMSE: {rmse:.3f}\")\n",
    "print(f\"R-squared: {r2:.3f}\")\n"
   ],
   "id": "5d183908bdf7bdfd",
   "outputs": [
    {
     "name": "stdout",
     "output_type": "stream",
     "text": [
      "RMSE: 3.073\n",
      "R-squared: 0.407\n"
     ]
    }
   ],
   "execution_count": 28
  },
  {
   "metadata": {
    "ExecuteTime": {
     "end_time": "2025-06-10T13:19:40.352677Z",
     "start_time": "2025-06-10T13:19:18.746486Z"
    }
   },
   "cell_type": "code",
   "source": [
    "train_data, test_data = assembled_df.randomSplit([0.8, 0.2], seed=42)\n",
    "print(f\"Training rows: {train_data.count()}, Testing rows: {test_data.count()}\")\n"
   ],
   "id": "eeb916b752c1d8f1",
   "outputs": [
    {
     "name": "stdout",
     "output_type": "stream",
     "text": [
      "Training rows: 3108808, Testing rows: 777808\n"
     ]
    }
   ],
   "execution_count": 29
  },
  {
   "metadata": {
    "ExecuteTime": {
     "end_time": "2025-06-10T13:20:22.205815Z",
     "start_time": "2025-06-10T13:20:00.115894Z"
    }
   },
   "cell_type": "code",
   "source": [
    "from pyspark.ml.regression import LinearRegression\n",
    "\n",
    "lr = LinearRegression(featuresCol='features', labelCol='tip_amount')\n",
    "lr_model = lr.fit(train_data)\n"
   ],
   "id": "6f34b97c84b2b3ff",
   "outputs": [],
   "execution_count": 30
  },
  {
   "metadata": {
    "ExecuteTime": {
     "end_time": "2025-06-10T13:20:36.458363Z",
     "start_time": "2025-06-10T13:20:24.616318Z"
    }
   },
   "cell_type": "code",
   "source": [
    "predictions = lr_model.transform(test_data)\n",
    "predictions.select(\"features\", \"tip_amount\", \"prediction\").show(5)\n"
   ],
   "id": "6104550d77fdce6",
   "outputs": [
    {
     "name": "stdout",
     "output_type": "stream",
     "text": [
      "+--------------------+----------+------------------+\n",
      "|            features|tip_amount|        prediction|\n",
      "+--------------------+----------+------------------+\n",
      "|[1.57101862862017...|     12.95|10.566287682068062|\n",
      "|[0.42699128421310...|       0.0|1.9586082235021811|\n",
      "|[1.26863624117951...|       1.0| 4.460385927759457|\n",
      "|[0.76667246259541...|       0.0| 2.695888407774543|\n",
      "|[0.95723076208099...|      3.65|  2.41909833542703|\n",
      "+--------------------+----------+------------------+\n",
      "only showing top 5 rows\n"
     ]
    }
   ],
   "execution_count": 31
  },
  {
   "metadata": {
    "ExecuteTime": {
     "end_time": "2025-06-10T13:20:46.793568Z",
     "start_time": "2025-06-10T13:20:38.431906Z"
    }
   },
   "cell_type": "code",
   "source": [
    "from pyspark.ml.evaluation import RegressionEvaluator\n",
    "\n",
    "evaluator = RegressionEvaluator(\n",
    "    labelCol='tip_amount', predictionCol='prediction', metricName='rmse')\n",
    "\n",
    "rmse = evaluator.evaluate(predictions)\n",
    "print(f\"Root Mean Squared Error (RMSE) on test data = {rmse:.2f}\")\n"
   ],
   "id": "26edc5edc74e53ac",
   "outputs": [
    {
     "name": "stdout",
     "output_type": "stream",
     "text": [
      "Root Mean Squared Error (RMSE) on test data = 3.07\n"
     ]
    }
   ],
   "execution_count": 32
  },
  {
   "metadata": {},
   "cell_type": "markdown",
   "source": "Random Forest",
   "id": "ab1cb01b571c8c89"
  },
  {
   "metadata": {
    "ExecuteTime": {
     "end_time": "2025-06-10T13:23:02.403450Z",
     "start_time": "2025-06-10T13:20:51.250954Z"
    }
   },
   "cell_type": "code",
   "source": [
    "from pyspark.ml.regression import RandomForestRegressor\n",
    "from pyspark.ml.evaluation import RegressionEvaluator\n",
    "\n",
    "# 1. Initialize the Random Forest Regressor\n",
    "rf = RandomForestRegressor(featuresCol=\"features\", labelCol=\"tip_amount\", seed=42)\n",
    "\n",
    "# 2. Train the model on training data\n",
    "rf_model = rf.fit(train_data)\n",
    "\n",
    "# 3. Predict on test data\n",
    "predictions = rf_model.transform(test_data)\n",
    "\n",
    "# 4. Evaluate the model performance\n",
    "evaluator_rmse = RegressionEvaluator(labelCol=\"tip_amount\", predictionCol=\"prediction\", metricName=\"rmse\")\n",
    "rmse = evaluator_rmse.evaluate(predictions)\n",
    "\n",
    "evaluator_r2 = RegressionEvaluator(labelCol=\"tip_amount\", predictionCol=\"prediction\", metricName=\"r2\")\n",
    "r2 = evaluator_r2.evaluate(predictions)\n",
    "\n",
    "print(f\"Random Forest RMSE: {rmse}\")\n",
    "print(f\"Random Forest R2: {r2}\")\n"
   ],
   "id": "9f0327820db4ecb4",
   "outputs": [
    {
     "name": "stdout",
     "output_type": "stream",
     "text": [
      "Random Forest RMSE: 3.016047209319717\n",
      "Random Forest R2: 0.42932108060777463\n"
     ]
    }
   ],
   "execution_count": 33
  },
  {
   "metadata": {},
   "cell_type": "markdown",
   "source": "Gradient Boost",
   "id": "ee62565bff370f22"
  },
  {
   "metadata": {
    "ExecuteTime": {
     "end_time": "2025-06-10T14:25:52.337610Z",
     "start_time": "2025-06-10T13:52:14.510825Z"
    }
   },
   "cell_type": "code",
   "source": [
    "from pyspark.ml.regression import GBTRegressor\n",
    "from pyspark.ml.evaluation import RegressionEvaluator\n",
    "\n",
    "# Step 1: Create the GBT model\n",
    "gbt = GBTRegressor(featuresCol='features', labelCol='tip_amount', maxIter=100)\n",
    "\n",
    "# Step 2: Fit the model to your training data\n",
    "gbt_model = gbt.fit(train_data)\n",
    "\n",
    "# Step 3: Make predictions on the test data\n",
    "gbt_predictions = gbt_model.transform(test_data)\n",
    "\n",
    "# Step 4: Evaluate the model\n",
    "evaluator = RegressionEvaluator(\n",
    "    labelCol=\"tip_amount\",\n",
    "    predictionCol=\"prediction\",\n",
    "    metricName=\"rmse\"\n",
    ")\n",
    "rmse = evaluator.evaluate(gbt_predictions)\n",
    "\n",
    "r2_evaluator = RegressionEvaluator(\n",
    "    labelCol=\"tip_amount\",\n",
    "    predictionCol=\"prediction\",\n",
    "    metricName=\"r2\"\n",
    ")\n",
    "r2 = r2_evaluator.evaluate(gbt_predictions)\n",
    "\n",
    "print(f\"GBT RMSE: {rmse}\")\n",
    "print(f\"GBT R2: {r2}\")\n"
   ],
   "id": "5ca179271085ba7b",
   "outputs": [
    {
     "name": "stdout",
     "output_type": "stream",
     "text": [
      "GBT RMSE: 2.9773753735722424\n",
      "GBT R2: 0.4438617783993599\n"
     ]
    }
   ],
   "execution_count": 35
  },
  {
   "metadata": {},
   "cell_type": "markdown",
   "source": "Hyperparameter tuning for Gradient Boosted Tree",
   "id": "a40b98da616e1273"
  },
  {
   "metadata": {
    "ExecuteTime": {
     "end_time": "2025-06-10T15:04:34.331096Z",
     "start_time": "2025-06-10T14:35:26.558852Z"
    }
   },
   "cell_type": "code",
   "source": [
    "from pyspark.ml.regression import GBTRegressor\n",
    "from pyspark.ml.evaluation import RegressionEvaluator\n",
    "from pyspark.ml.tuning import ParamGridBuilder, TrainValidationSplit\n",
    "\n",
    "# Define the GBT Regressor\n",
    "gbt = GBTRegressor(featuresCol='features', labelCol='tip_amount')\n",
    "\n",
    "# Define the parameter grid (smaller for faster tuning)\n",
    "param_grid = ParamGridBuilder() \\\n",
    "    .addGrid(gbt.maxDepth, [3, 5]) \\\n",
    "    .addGrid(gbt.maxIter, [20, 50]) \\\n",
    "    .addGrid(gbt.stepSize, [0.1]) \\\n",
    "    .build()\n",
    "\n",
    "# Define evaluator for RMSE\n",
    "evaluator_rmse = RegressionEvaluator(\n",
    "    labelCol='tip_amount', \n",
    "    predictionCol='prediction', \n",
    "    metricName='rmse'\n",
    ")\n",
    "\n",
    "# Define TrainValidationSplit (faster than CrossValidator)\n",
    "tvs = TrainValidationSplit(\n",
    "    estimator=gbt,\n",
    "    estimatorParamMaps=param_grid,\n",
    "    evaluator=evaluator_rmse,\n",
    "    trainRatio=0.8  # 80% training, 20% validation\n",
    ")\n",
    "\n",
    "# (Optional) Time the training process\n",
    "import time\n",
    "start_time = time.time()\n",
    "\n",
    "# Fit the model on training data\n",
    "tvs_model = tvs.fit(train_data)\n",
    "\n",
    "end_time = time.time()\n",
    "print(f\"Training completed in {(end_time - start_time)/60:.2f} minutes\")\n",
    "\n",
    "# Make predictions on test data\n",
    "predictions = tvs_model.transform(test_data)\n",
    "\n",
    "# Evaluate RMSE and R-squared on test set\n",
    "rmse = evaluator_rmse.evaluate(predictions)\n",
    "r2 = RegressionEvaluator(\n",
    "    labelCol='tip_amount', \n",
    "    predictionCol='prediction', \n",
    "    metricName='r2'\n",
    ").evaluate(predictions)\n",
    "\n",
    "print(f\"Tuned GBT RMSE: {rmse:.3f}\")\n",
    "print(f\"Tuned GBT R2: {r2:.3f}\")\n"
   ],
   "id": "84c781ef4c17158b",
   "outputs": [
    {
     "name": "stdout",
     "output_type": "stream",
     "text": [
      "Training completed in 28.44 minutes\n",
      "Tuned GBT RMSE: 2.979\n",
      "Tuned GBT R2: 0.443\n"
     ]
    }
   ],
   "execution_count": 36
  }
 ],
 "metadata": {
  "kernelspec": {
   "display_name": "Python 3",
   "language": "python",
   "name": "python3"
  },
  "language_info": {
   "codemirror_mode": {
    "name": "ipython",
    "version": 2
   },
   "file_extension": ".py",
   "mimetype": "text/x-python",
   "name": "python",
   "nbconvert_exporter": "python",
   "pygments_lexer": "ipython2",
   "version": "2.7.6"
  }
 },
 "nbformat": 4,
 "nbformat_minor": 5
}

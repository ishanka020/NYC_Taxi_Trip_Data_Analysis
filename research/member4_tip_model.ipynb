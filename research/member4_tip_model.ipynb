{
 "cells": [
  {
   "cell_type": "code",
   "id": "initial_id",
   "metadata": {
    "collapsed": true,
    "ExecuteTime": {
     "end_time": "2025-06-07T07:28:30.793388Z",
     "start_time": "2025-06-07T07:28:11.503453Z"
    }
   },
   "source": [
    "from pyspark.sql import SparkSession\n",
    "from pathlib import Path\n",
    "from pyspark.ml.feature import VectorAssembler\n",
    "from pyspark.ml.regression import LinearRegression\n",
    "from pyspark.ml.evaluation import RegressionEvaluator\n",
    "from pyspark.sql.functions import col\n",
    "\n",
    "# Create SparkSession in local mode\n",
    "spark = SparkSession.builder \\\n",
    "    .appName(\"FareTipModeling\") \\\n",
    "    .master(\"local[*]\") \\\n",
    "    .getOrCreate()\n"
   ],
   "outputs": [],
   "execution_count": 1
  },
  {
   "metadata": {
    "ExecuteTime": {
     "end_time": "2025-06-07T07:30:47.308244Z",
     "start_time": "2025-06-07T07:30:47.254357Z"
    }
   },
   "cell_type": "code",
   "source": [
    "folder_path = Path(r\"D:\\L4S2\\Big Data\\assignment\\NYC_Taxi_Trip_Data_Analysis\\data\\cleaned\")\n",
    "\n",
    "parquet_files = sorted(folder_path.glob(\"*.parquet\"))\n",
    "print(f\"Found {len(parquet_files)} parquet files:\")\n",
    "for f in parquet_files:\n",
    "    print(f.name)\n"
   ],
   "id": "2289b82b1c43e618",
   "outputs": [
    {
     "name": "stdout",
     "output_type": "stream",
     "text": [
      "Found 8 parquet files:\n",
      "part-00000-c267671b-1832-48c2-97b7-10a9827a836f-c000.snappy.parquet\n",
      "part-00001-c267671b-1832-48c2-97b7-10a9827a836f-c000.snappy.parquet\n",
      "part-00002-c267671b-1832-48c2-97b7-10a9827a836f-c000.snappy.parquet\n",
      "part-00003-c267671b-1832-48c2-97b7-10a9827a836f-c000.snappy.parquet\n",
      "part-00004-c267671b-1832-48c2-97b7-10a9827a836f-c000.snappy.parquet\n",
      "part-00005-c267671b-1832-48c2-97b7-10a9827a836f-c000.snappy.parquet\n",
      "part-00006-c267671b-1832-48c2-97b7-10a9827a836f-c000.snappy.parquet\n",
      "part-00007-c267671b-1832-48c2-97b7-10a9827a836f-c000.snappy.parquet\n"
     ]
    }
   ],
   "execution_count": 6
  },
  {
   "metadata": {
    "ExecuteTime": {
     "end_time": "2025-06-07T07:31:04.946130Z",
     "start_time": "2025-06-07T07:31:04.940798Z"
    }
   },
   "cell_type": "code",
   "source": [
    "def filter_valid_fares_tips(df):\n",
    "    filtered_df = df.filter((df.fare_amount > 0) & (df.tip_amount >= 0))\n",
    "    print(f\"Filtered from {df.count()} rows to {filtered_df.count()} rows with valid fare and tip amounts\")\n",
    "    return filtered_df\n"
   ],
   "id": "a1661c6cb8a64f0",
   "outputs": [],
   "execution_count": 7
  },
  {
   "metadata": {
    "ExecuteTime": {
     "end_time": "2025-06-07T07:31:25.583516Z",
     "start_time": "2025-06-07T07:31:16.163731Z"
    }
   },
   "cell_type": "code",
   "source": [
    "for file_path in parquet_files:\n",
    "    print(f\"\\nProcessing file: {file_path.name}\")\n",
    "    df = spark.read.parquet(str(file_path))\n",
    "    \n",
    "    # Run your filter\n",
    "    filtered_df = filter_valid_fares_tips(df)\n",
    "    \n",
    "    # You can add more processing steps here (e.g. modeling)\n"
   ],
   "id": "64a779d5a3a5c1a3",
   "outputs": [
    {
     "name": "stdout",
     "output_type": "stream",
     "text": [
      "\n",
      "Processing file: part-00000-c267671b-1832-48c2-97b7-10a9827a836f-c000.snappy.parquet\n",
      "Filtered from 3918134 rows to 3918134 rows with valid fare and tip amounts\n",
      "\n",
      "Processing file: part-00001-c267671b-1832-48c2-97b7-10a9827a836f-c000.snappy.parquet\n",
      "Filtered from 3933455 rows to 3933455 rows with valid fare and tip amounts\n",
      "\n",
      "Processing file: part-00002-c267671b-1832-48c2-97b7-10a9827a836f-c000.snappy.parquet\n",
      "Filtered from 3928190 rows to 3928190 rows with valid fare and tip amounts\n",
      "\n",
      "Processing file: part-00003-c267671b-1832-48c2-97b7-10a9827a836f-c000.snappy.parquet\n",
      "Filtered from 3936382 rows to 3936382 rows with valid fare and tip amounts\n",
      "\n",
      "Processing file: part-00004-c267671b-1832-48c2-97b7-10a9827a836f-c000.snappy.parquet\n",
      "Filtered from 3930808 rows to 3930808 rows with valid fare and tip amounts\n",
      "\n",
      "Processing file: part-00005-c267671b-1832-48c2-97b7-10a9827a836f-c000.snappy.parquet\n",
      "Filtered from 5205187 rows to 5205187 rows with valid fare and tip amounts\n",
      "\n",
      "Processing file: part-00006-c267671b-1832-48c2-97b7-10a9827a836f-c000.snappy.parquet\n",
      "Filtered from 3411161 rows to 3411161 rows with valid fare and tip amounts\n",
      "\n",
      "Processing file: part-00007-c267671b-1832-48c2-97b7-10a9827a836f-c000.snappy.parquet\n",
      "Filtered from 3886616 rows to 3886616 rows with valid fare and tip amounts\n"
     ]
    }
   ],
   "execution_count": 8
  }
 ],
 "metadata": {
  "kernelspec": {
   "display_name": "Python 3",
   "language": "python",
   "name": "python3"
  },
  "language_info": {
   "codemirror_mode": {
    "name": "ipython",
    "version": 2
   },
   "file_extension": ".py",
   "mimetype": "text/x-python",
   "name": "python",
   "nbconvert_exporter": "python",
   "pygments_lexer": "ipython2",
   "version": "2.7.6"
  }
 },
 "nbformat": 4,
 "nbformat_minor": 5
}

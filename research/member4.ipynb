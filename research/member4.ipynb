{
 "cells": [
  {
   "cell_type": "code",
   "id": "initial_id",
   "metadata": {
    "collapsed": true,
    "ExecuteTime": {
     "end_time": "2025-06-07T06:35:41.681671Z",
     "start_time": "2025-06-07T06:35:41.673507Z"
    }
   },
   "source": [
    "from pathlib import Path\n",
    "\n",
    "def load_individual_parquet_files(spark, folder=\"../data/cleaned\"):\n",
    "    cleaned_path = Path(folder).resolve()\n",
    "    parquet_files = sorted(cleaned_path.glob(\"*.parquet\"))\n",
    "    \n",
    "    if not parquet_files:\n",
    "        print(f\"No Parquet files found in: {cleaned_path}\")\n",
    "        return []\n",
    "    \n",
    "    print(f\"Found {len(parquet_files)} Parquet files:\")\n",
    "    for f in parquet_files:\n",
    "        print(f\" - {f.name}\")\n",
    "    \n",
    "    return parquet_files\n",
    "\n",
    "# Example usage\n",
    "parquet_files = load_individual_parquet_files(None)\n"
   ],
   "outputs": [
    {
     "name": "stdout",
     "output_type": "stream",
     "text": [
      "Found 8 Parquet files:\n",
      " - part-00000-c267671b-1832-48c2-97b7-10a9827a836f-c000.snappy.parquet\n",
      " - part-00001-c267671b-1832-48c2-97b7-10a9827a836f-c000.snappy.parquet\n",
      " - part-00002-c267671b-1832-48c2-97b7-10a9827a836f-c000.snappy.parquet\n",
      " - part-00003-c267671b-1832-48c2-97b7-10a9827a836f-c000.snappy.parquet\n",
      " - part-00004-c267671b-1832-48c2-97b7-10a9827a836f-c000.snappy.parquet\n",
      " - part-00005-c267671b-1832-48c2-97b7-10a9827a836f-c000.snappy.parquet\n",
      " - part-00006-c267671b-1832-48c2-97b7-10a9827a836f-c000.snappy.parquet\n",
      " - part-00007-c267671b-1832-48c2-97b7-10a9827a836f-c000.snappy.parquet\n"
     ]
    }
   ],
   "execution_count": 1
  },
  {
   "metadata": {
    "ExecuteTime": {
     "end_time": "2025-06-07T06:42:31.986443Z",
     "start_time": "2025-06-07T06:42:12.766237Z"
    }
   },
   "cell_type": "code",
   "source": [
    "from pyspark.sql import SparkSession\n",
    "from pathlib import Path\n",
    "\n",
    "spark = SparkSession.builder \\\n",
    "    .appName(\"FareTipModeling\") \\\n",
    "    .master(\"local[*]\") \\\n",
    "    .getOrCreate()\n"
   ],
   "id": "97453b5a62f55fa4",
   "outputs": [],
   "execution_count": 4
  },
  {
   "metadata": {
    "ExecuteTime": {
     "end_time": "2025-06-07T06:43:02.176499Z",
     "start_time": "2025-06-07T06:43:02.169752Z"
    }
   },
   "cell_type": "code",
   "source": [
    "folder_path = Path(r\"D:\\L4S2\\Big Data\\assignment\\NYC_Taxi_Trip_Data_Analysis\\data\\cleaned\")\n",
    "\n",
    "parquet_files = sorted(folder_path.glob(\"*.parquet\"))\n",
    "print(f\"Found {len(parquet_files)} parquet files:\")\n",
    "for f in parquet_files:\n",
    "    print(f.name)\n"
   ],
   "id": "a159b360b553a7f5",
   "outputs": [
    {
     "name": "stdout",
     "output_type": "stream",
     "text": [
      "Found 8 parquet files:\n",
      "part-00000-c267671b-1832-48c2-97b7-10a9827a836f-c000.snappy.parquet\n",
      "part-00001-c267671b-1832-48c2-97b7-10a9827a836f-c000.snappy.parquet\n",
      "part-00002-c267671b-1832-48c2-97b7-10a9827a836f-c000.snappy.parquet\n",
      "part-00003-c267671b-1832-48c2-97b7-10a9827a836f-c000.snappy.parquet\n",
      "part-00004-c267671b-1832-48c2-97b7-10a9827a836f-c000.snappy.parquet\n",
      "part-00005-c267671b-1832-48c2-97b7-10a9827a836f-c000.snappy.parquet\n",
      "part-00006-c267671b-1832-48c2-97b7-10a9827a836f-c000.snappy.parquet\n",
      "part-00007-c267671b-1832-48c2-97b7-10a9827a836f-c000.snappy.parquet\n"
     ]
    }
   ],
   "execution_count": 5
  },
  {
   "metadata": {
    "ExecuteTime": {
     "end_time": "2025-06-07T06:43:21.791345Z",
     "start_time": "2025-06-07T06:43:21.786559Z"
    }
   },
   "cell_type": "code",
   "source": [
    "def filter_valid_fares_tips(df):\n",
    "    filtered_df = df.filter((df.fare_amount > 0) & (df.tip_amount >= 0))\n",
    "    print(f\"Filtered from {df.count()} rows to {filtered_df.count()} rows with valid fare and tip amounts\")\n",
    "    return filtered_df\n"
   ],
   "id": "f4b3203074a67e97",
   "outputs": [],
   "execution_count": 6
  },
  {
   "metadata": {
    "ExecuteTime": {
     "end_time": "2025-06-07T06:44:01.697619Z",
     "start_time": "2025-06-07T06:43:48.388224Z"
    }
   },
   "cell_type": "code",
   "source": [
    "for file_path in parquet_files:\n",
    "    print(f\"\\nProcessing file: {file_path.name}\")\n",
    "    df = spark.read.parquet(str(file_path))\n",
    "    \n",
    "    # Run your filter\n",
    "    filtered_df = filter_valid_fares_tips(df)\n",
    "    \n",
    "    # You can add more processing steps here (e.g. modeling)\n"
   ],
   "id": "b1f2d89ed247b0db",
   "outputs": [
    {
     "name": "stdout",
     "output_type": "stream",
     "text": [
      "\n",
      "Processing file: part-00000-c267671b-1832-48c2-97b7-10a9827a836f-c000.snappy.parquet\n",
      "Filtered from 3918134 rows to 3918134 rows with valid fare and tip amounts\n",
      "\n",
      "Processing file: part-00001-c267671b-1832-48c2-97b7-10a9827a836f-c000.snappy.parquet\n",
      "Filtered from 3933455 rows to 3933455 rows with valid fare and tip amounts\n",
      "\n",
      "Processing file: part-00002-c267671b-1832-48c2-97b7-10a9827a836f-c000.snappy.parquet\n",
      "Filtered from 3928190 rows to 3928190 rows with valid fare and tip amounts\n",
      "\n",
      "Processing file: part-00003-c267671b-1832-48c2-97b7-10a9827a836f-c000.snappy.parquet\n",
      "Filtered from 3936382 rows to 3936382 rows with valid fare and tip amounts\n",
      "\n",
      "Processing file: part-00004-c267671b-1832-48c2-97b7-10a9827a836f-c000.snappy.parquet\n",
      "Filtered from 3930808 rows to 3930808 rows with valid fare and tip amounts\n",
      "\n",
      "Processing file: part-00005-c267671b-1832-48c2-97b7-10a9827a836f-c000.snappy.parquet\n",
      "Filtered from 5205187 rows to 5205187 rows with valid fare and tip amounts\n",
      "\n",
      "Processing file: part-00006-c267671b-1832-48c2-97b7-10a9827a836f-c000.snappy.parquet\n",
      "Filtered from 3411161 rows to 3411161 rows with valid fare and tip amounts\n",
      "\n",
      "Processing file: part-00007-c267671b-1832-48c2-97b7-10a9827a836f-c000.snappy.parquet\n",
      "Filtered from 3886616 rows to 3886616 rows with valid fare and tip amounts\n"
     ]
    }
   ],
   "execution_count": 7
  },
  {
   "metadata": {
    "ExecuteTime": {
     "end_time": "2025-06-07T06:45:34.317958Z",
     "start_time": "2025-06-07T06:45:32.796314Z"
    }
   },
   "cell_type": "code",
   "source": [
    "from pyspark.sql.functions import when, col\n",
    "\n",
    "df = df.withColumn(\"label\", when(col(\"tip_amount\") > 0.5, 1).otherwise(0))\n",
    "print(f\"Label distribution:\")\n",
    "df.groupBy(\"label\").count().show()\n"
   ],
   "id": "257562a93d7739f4",
   "outputs": [
    {
     "name": "stdout",
     "output_type": "stream",
     "text": [
      "Label distribution:\n",
      "+-----+-------+\n",
      "|label|  count|\n",
      "+-----+-------+\n",
      "|    1|3060278|\n",
      "|    0| 826338|\n",
      "+-----+-------+\n",
      "\n"
     ]
    }
   ],
   "execution_count": 8
  },
  {
   "metadata": {
    "ExecuteTime": {
     "end_time": "2025-06-07T06:45:49.362376Z",
     "start_time": "2025-06-07T06:45:47.703218Z"
    }
   },
   "cell_type": "code",
   "source": [
    "from pyspark.ml.feature import VectorAssembler\n",
    "\n",
    "feature_cols = [\"fare_amount\", \"trip_distance\", \"trip_time_in_secs\"]\n",
    "assembler = VectorAssembler(inputCols=feature_cols, outputCol=\"features\")\n",
    "\n",
    "data = assembler.transform(df).select(\"features\", \"label\")\n"
   ],
   "id": "e252992ff2f0077e",
   "outputs": [
    {
     "ename": "IllegalArgumentException",
     "evalue": "[FIELD_NOT_FOUND] No such struct field `trip_time_in_secs` in `VendorID`, `tpep_pickup_datetime`, `tpep_dropoff_datetime`, `passenger_count`, `trip_distance`, `RatecodeID`, `store_and_fwd_flag`, `PULocationID`, `DOLocationID`, `payment_type`, `fare_amount`, `extra`, `mta_tax`, `tip_amount`, `tolls_amount`, `improvement_surcharge`, `total_amount`, `congestion_surcharge`, `Airport_fee`, `label`. SQLSTATE: 42704",
     "output_type": "error",
     "traceback": [
      "\u001B[31m---------------------------------------------------------------------------\u001B[39m",
      "\u001B[31mIllegalArgumentException\u001B[39m                  Traceback (most recent call last)",
      "\u001B[36mCell\u001B[39m\u001B[36m \u001B[39m\u001B[32mIn[9]\u001B[39m\u001B[32m, line 6\u001B[39m\n\u001B[32m      3\u001B[39m feature_cols = [\u001B[33m\"\u001B[39m\u001B[33mfare_amount\u001B[39m\u001B[33m\"\u001B[39m, \u001B[33m\"\u001B[39m\u001B[33mtrip_distance\u001B[39m\u001B[33m\"\u001B[39m, \u001B[33m\"\u001B[39m\u001B[33mtrip_time_in_secs\u001B[39m\u001B[33m\"\u001B[39m]\n\u001B[32m      4\u001B[39m assembler = VectorAssembler(inputCols=feature_cols, outputCol=\u001B[33m\"\u001B[39m\u001B[33mfeatures\u001B[39m\u001B[33m\"\u001B[39m)\n\u001B[32m----> \u001B[39m\u001B[32m6\u001B[39m data = \u001B[43massembler\u001B[49m\u001B[43m.\u001B[49m\u001B[43mtransform\u001B[49m\u001B[43m(\u001B[49m\u001B[43mdf\u001B[49m\u001B[43m)\u001B[49m.select(\u001B[33m\"\u001B[39m\u001B[33mfeatures\u001B[39m\u001B[33m\"\u001B[39m, \u001B[33m\"\u001B[39m\u001B[33mlabel\u001B[39m\u001B[33m\"\u001B[39m)\n",
      "\u001B[36mFile \u001B[39m\u001B[32mD:\\L4S2\\Big Data\\assignment\\NYC_Taxi_Trip_Data_Analysis\\.venv\\Lib\\site-packages\\pyspark\\ml\\base.py:260\u001B[39m, in \u001B[36mTransformer.transform\u001B[39m\u001B[34m(self, dataset, params)\u001B[39m\n\u001B[32m    258\u001B[39m         \u001B[38;5;28;01mreturn\u001B[39;00m \u001B[38;5;28mself\u001B[39m.copy(params)._transform(dataset)\n\u001B[32m    259\u001B[39m     \u001B[38;5;28;01melse\u001B[39;00m:\n\u001B[32m--> \u001B[39m\u001B[32m260\u001B[39m         \u001B[38;5;28;01mreturn\u001B[39;00m \u001B[38;5;28;43mself\u001B[39;49m\u001B[43m.\u001B[49m\u001B[43m_transform\u001B[49m\u001B[43m(\u001B[49m\u001B[43mdataset\u001B[49m\u001B[43m)\u001B[49m\n\u001B[32m    261\u001B[39m \u001B[38;5;28;01melse\u001B[39;00m:\n\u001B[32m    262\u001B[39m     \u001B[38;5;28;01mraise\u001B[39;00m \u001B[38;5;167;01mTypeError\u001B[39;00m(\u001B[33m\"\u001B[39m\u001B[33mParams must be a param map but got \u001B[39m\u001B[38;5;132;01m%s\u001B[39;00m\u001B[33m.\u001B[39m\u001B[33m\"\u001B[39m % \u001B[38;5;28mtype\u001B[39m(params))\n",
      "\u001B[36mFile \u001B[39m\u001B[32mD:\\L4S2\\Big Data\\assignment\\NYC_Taxi_Trip_Data_Analysis\\.venv\\Lib\\site-packages\\pyspark\\ml\\util.py:212\u001B[39m, in \u001B[36mtry_remote_transform_relation.<locals>.wrapped\u001B[39m\u001B[34m(self, dataset)\u001B[39m\n\u001B[32m    210\u001B[39m         \u001B[38;5;28;01mraise\u001B[39;00m \u001B[38;5;167;01mRuntimeError\u001B[39;00m(\u001B[33mf\u001B[39m\u001B[33m\"\u001B[39m\u001B[33mUnsupported \u001B[39m\u001B[38;5;132;01m{\u001B[39;00m\u001B[38;5;28mself\u001B[39m\u001B[38;5;132;01m}\u001B[39;00m\u001B[33m\"\u001B[39m)\n\u001B[32m    211\u001B[39m \u001B[38;5;28;01melse\u001B[39;00m:\n\u001B[32m--> \u001B[39m\u001B[32m212\u001B[39m     \u001B[38;5;28;01mreturn\u001B[39;00m \u001B[43mf\u001B[49m\u001B[43m(\u001B[49m\u001B[38;5;28;43mself\u001B[39;49m\u001B[43m,\u001B[49m\u001B[43m \u001B[49m\u001B[43mdataset\u001B[49m\u001B[43m)\u001B[49m\n",
      "\u001B[36mFile \u001B[39m\u001B[32mD:\\L4S2\\Big Data\\assignment\\NYC_Taxi_Trip_Data_Analysis\\.venv\\Lib\\site-packages\\pyspark\\ml\\wrapper.py:429\u001B[39m, in \u001B[36mJavaTransformer._transform\u001B[39m\u001B[34m(self, dataset)\u001B[39m\n\u001B[32m    426\u001B[39m \u001B[38;5;28;01massert\u001B[39;00m \u001B[38;5;28mself\u001B[39m._java_obj \u001B[38;5;129;01mis\u001B[39;00m \u001B[38;5;129;01mnot\u001B[39;00m \u001B[38;5;28;01mNone\u001B[39;00m\n\u001B[32m    428\u001B[39m \u001B[38;5;28mself\u001B[39m._transfer_params_to_java()\n\u001B[32m--> \u001B[39m\u001B[32m429\u001B[39m \u001B[38;5;28;01mreturn\u001B[39;00m DataFrame(\u001B[38;5;28;43mself\u001B[39;49m\u001B[43m.\u001B[49m\u001B[43m_java_obj\u001B[49m\u001B[43m.\u001B[49m\u001B[43mtransform\u001B[49m\u001B[43m(\u001B[49m\u001B[43mdataset\u001B[49m\u001B[43m.\u001B[49m\u001B[43m_jdf\u001B[49m\u001B[43m)\u001B[49m, dataset.sparkSession)\n",
      "\u001B[36mFile \u001B[39m\u001B[32mD:\\L4S2\\Big Data\\assignment\\NYC_Taxi_Trip_Data_Analysis\\.venv\\Lib\\site-packages\\py4j\\java_gateway.py:1362\u001B[39m, in \u001B[36mJavaMember.__call__\u001B[39m\u001B[34m(self, *args)\u001B[39m\n\u001B[32m   1356\u001B[39m command = proto.CALL_COMMAND_NAME +\\\n\u001B[32m   1357\u001B[39m     \u001B[38;5;28mself\u001B[39m.command_header +\\\n\u001B[32m   1358\u001B[39m     args_command +\\\n\u001B[32m   1359\u001B[39m     proto.END_COMMAND_PART\n\u001B[32m   1361\u001B[39m answer = \u001B[38;5;28mself\u001B[39m.gateway_client.send_command(command)\n\u001B[32m-> \u001B[39m\u001B[32m1362\u001B[39m return_value = \u001B[43mget_return_value\u001B[49m\u001B[43m(\u001B[49m\n\u001B[32m   1363\u001B[39m \u001B[43m    \u001B[49m\u001B[43manswer\u001B[49m\u001B[43m,\u001B[49m\u001B[43m \u001B[49m\u001B[38;5;28;43mself\u001B[39;49m\u001B[43m.\u001B[49m\u001B[43mgateway_client\u001B[49m\u001B[43m,\u001B[49m\u001B[43m \u001B[49m\u001B[38;5;28;43mself\u001B[39;49m\u001B[43m.\u001B[49m\u001B[43mtarget_id\u001B[49m\u001B[43m,\u001B[49m\u001B[43m \u001B[49m\u001B[38;5;28;43mself\u001B[39;49m\u001B[43m.\u001B[49m\u001B[43mname\u001B[49m\u001B[43m)\u001B[49m\n\u001B[32m   1365\u001B[39m \u001B[38;5;28;01mfor\u001B[39;00m temp_arg \u001B[38;5;129;01min\u001B[39;00m temp_args:\n\u001B[32m   1366\u001B[39m     \u001B[38;5;28;01mif\u001B[39;00m \u001B[38;5;28mhasattr\u001B[39m(temp_arg, \u001B[33m\"\u001B[39m\u001B[33m_detach\u001B[39m\u001B[33m\"\u001B[39m):\n",
      "\u001B[36mFile \u001B[39m\u001B[32mD:\\L4S2\\Big Data\\assignment\\NYC_Taxi_Trip_Data_Analysis\\.venv\\Lib\\site-packages\\pyspark\\errors\\exceptions\\captured.py:288\u001B[39m, in \u001B[36mcapture_sql_exception.<locals>.deco\u001B[39m\u001B[34m(*a, **kw)\u001B[39m\n\u001B[32m    284\u001B[39m converted = convert_exception(e.java_exception)\n\u001B[32m    285\u001B[39m \u001B[38;5;28;01mif\u001B[39;00m \u001B[38;5;129;01mnot\u001B[39;00m \u001B[38;5;28misinstance\u001B[39m(converted, UnknownException):\n\u001B[32m    286\u001B[39m     \u001B[38;5;66;03m# Hide where the exception came from that shows a non-Pythonic\u001B[39;00m\n\u001B[32m    287\u001B[39m     \u001B[38;5;66;03m# JVM exception message.\u001B[39;00m\n\u001B[32m--> \u001B[39m\u001B[32m288\u001B[39m     \u001B[38;5;28;01mraise\u001B[39;00m converted \u001B[38;5;28;01mfrom\u001B[39;00m\u001B[38;5;250m \u001B[39m\u001B[38;5;28;01mNone\u001B[39;00m\n\u001B[32m    289\u001B[39m \u001B[38;5;28;01melse\u001B[39;00m:\n\u001B[32m    290\u001B[39m     \u001B[38;5;28;01mraise\u001B[39;00m\n",
      "\u001B[31mIllegalArgumentException\u001B[39m: [FIELD_NOT_FOUND] No such struct field `trip_time_in_secs` in `VendorID`, `tpep_pickup_datetime`, `tpep_dropoff_datetime`, `passenger_count`, `trip_distance`, `RatecodeID`, `store_and_fwd_flag`, `PULocationID`, `DOLocationID`, `payment_type`, `fare_amount`, `extra`, `mta_tax`, `tip_amount`, `tolls_amount`, `improvement_surcharge`, `total_amount`, `congestion_surcharge`, `Airport_fee`, `label`. SQLSTATE: 42704"
     ]
    }
   ],
   "execution_count": 9
  },
  {
   "metadata": {},
   "cell_type": "code",
   "outputs": [],
   "execution_count": null,
   "source": "",
   "id": "73b1c00154b3a04c"
  }
 ],
 "metadata": {
  "kernelspec": {
   "display_name": "Python 3",
   "language": "python",
   "name": "python3"
  },
  "language_info": {
   "codemirror_mode": {
    "name": "ipython",
    "version": 2
   },
   "file_extension": ".py",
   "mimetype": "text/x-python",
   "name": "python",
   "nbconvert_exporter": "python",
   "pygments_lexer": "ipython2",
   "version": "2.7.6"
  }
 },
 "nbformat": 4,
 "nbformat_minor": 5
}
